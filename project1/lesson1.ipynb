import numpy as np #导入NumPy
import pandas as pd #导入Pandas
import matplotlib.pyplot as plt #导入Matplotlib的pyplot模块
import seaborn as sns #导入Seaborn
df_sales = pd.read_csv('RFM中文.csv') #载入数据
df_sales.head() #显示头几行数据  
